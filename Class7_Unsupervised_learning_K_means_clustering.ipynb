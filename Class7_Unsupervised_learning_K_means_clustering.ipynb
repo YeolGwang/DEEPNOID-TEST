{
  "nbformat": 4,
  "nbformat_minor": 0,
  "metadata": {
    "colab": {
      "name": "Class7.Unsupervised learning K-means clustering.ipynb",
      "provenance": [],
      "authorship_tag": "ABX9TyMqDnyElTvxl6qY1TJ4YlLN",
      "include_colab_link": true
    },
    "kernelspec": {
      "name": "python3",
      "display_name": "Python 3"
    },
    "language_info": {
      "name": "python"
    }
  },
  "cells": [
    {
      "cell_type": "markdown",
      "metadata": {
        "id": "view-in-github",
        "colab_type": "text"
      },
      "source": [
        "<a href=\"https://colab.research.google.com/github/YeolGwang/test_project_1/blob/main/Class7_Unsupervised_learning_K_means_clustering.ipynb\" target=\"_parent\"><img src=\"https://colab.research.google.com/assets/colab-badge.svg\" alt=\"Open In Colab\"/></a>"
      ]
    },
    {
      "cell_type": "code",
      "execution_count": 1,
      "metadata": {
        "id": "VdiWCv59-w61"
      },
      "outputs": [],
      "source": [
        "import numpy as np\n",
        "import matplotlib.pyplot as plt"
      ]
    },
    {
      "cell_type": "code",
      "source": [
        "x = 5 * np.random.randn(500)\n",
        "y = 2 * np.random.randn(500)\n",
        "\n",
        "feature = np.zeros((500,2))\n",
        "feature[:,0] = x\n",
        "feature[:,1] = y\n",
        "\n",
        "plt.figure(figsize=(8,8))\n",
        "plt.title('input data')\n",
        "plt.scatter(x,y, color='purple')\n",
        "\n",
        "plt.tight_layout()\n",
        "plt.show()"
      ],
      "metadata": {
        "colab": {
          "base_uri": "https://localhost:8080/",
          "height": 585
        },
        "id": "0EqECQ3G_Gxr",
        "outputId": "cdc7cb71-8355-41cd-bd4a-e0a41cbc693c"
      },
      "execution_count": 4,
      "outputs": [
        {
          "output_type": "display_data",
          "data": {
            "text/plain": [
              "<Figure size 576x576 with 1 Axes>"
            ],
            "image/png": "[encoded data removed]"
          },
          "metadata": {
            "needs_background": "light"
          }
        }
      ]
    },
    {
      "cell_type": "code",
      "source": [
        "num_data = np.size(feature, axis=0)\n",
        "num_feature = np.size(feature,axis=1)\n",
        "\n",
        "print(f'number of data: {num_data}')\n",
        "print(f'number of feature: {num_feature}')"
      ],
      "metadata": {
        "colab": {
          "base_uri": "https://localhost:8080/"
        },
        "id": "inHZYLqI_Rpn",
        "outputId": "626695e0-34a8-4dd3-99b3-cc6eaeb4b906"
      },
      "execution_count": 5,
      "outputs": [
        {
          "output_type": "stream",
          "name": "stdout",
          "text": [
            "number of data: 500\n",
            "number of feature: 2\n"
          ]
        }
      ]
    },
    {
      "cell_type": "code",
      "source": [
        "cluster_k = 2\n",
        "iteration = 10\n",
        "loss = np.zeros(iteration)\n",
        "label_pred = np.random.randint(0, cluster_k, size=(num_data))\n",
        "distance = np.zeros((num_data, cluster_k))\n",
        "distance.shape"
      ],
      "metadata": {
        "colab": {
          "base_uri": "https://localhost:8080/"
        },
        "id": "Am1gthobAue-",
        "outputId": "54f179b2-a63a-4ca6-b119-5c118fb2ea27"
      },
      "execution_count": 6,
      "outputs": [
        {
          "output_type": "execute_result",
          "data": {
            "text/plain": [
              "(500, 2)"
            ]
          },
          "metadata": {},
          "execution_count": 6
        }
      ]
    },
    {
      "cell_type": "code",
      "source": [
        "center = np.zeros(shape=(cluster_k, num_feature))\n",
        "np.where(label_pred == 0)"
      ],
      "metadata": {
        "colab": {
          "base_uri": "https://localhost:8080/"
        },
        "id": "IyeFsI3NBk8E",
        "outputId": "7e3387de-f498-4211-b537-a592615b6f3a"
      },
      "execution_count": 7,
      "outputs": [
        {
          "output_type": "execute_result",
          "data": {
            "text/plain": [
              "(array([  1,   3,   4,   5,   8,   9,  10,  12,  13,  14,  15,  18,  20,\n",
              "         22,  26,  28,  29,  32,  33,  38,  39,  40,  41,  45,  46,  47,\n",
              "         50,  52,  53,  55,  56,  61,  62,  64,  66,  71,  72,  73,  74,\n",
              "         76,  77,  79,  83,  85,  86,  89,  91,  94,  95,  97,  99, 101,\n",
              "        102, 105, 106, 107, 110, 113, 114, 115, 117, 118, 119, 120, 122,\n",
              "        123, 124, 125, 127, 130, 132, 133, 134, 135, 136, 138, 139, 140,\n",
              "        142, 143, 144, 150, 151, 152, 154, 156, 160, 164, 166, 167, 170,\n",
              "        171, 172, 173, 176, 177, 178, 180, 182, 185, 187, 189, 190, 194,\n",
              "        196, 197, 199, 200, 206, 208, 210, 214, 215, 216, 217, 219, 220,\n",
              "        221, 222, 223, 225, 230, 236, 237, 239, 240, 241, 243, 245, 247,\n",
              "        251, 252, 254, 257, 258, 261, 262, 263, 264, 265, 266, 269, 271,\n",
              "        272, 273, 274, 275, 277, 278, 280, 284, 285, 286, 289, 290, 291,\n",
              "        293, 294, 295, 296, 298, 301, 305, 311, 312, 314, 315, 317, 320,\n",
              "        322, 324, 325, 326, 331, 333, 334, 335, 336, 339, 340, 343, 345,\n",
              "        348, 356, 357, 361, 362, 364, 366, 367, 368, 372, 373, 375, 376,\n",
              "        377, 379, 380, 381, 382, 386, 387, 389, 390, 394, 396, 398, 401,\n",
              "        403, 404, 406, 408, 409, 411, 412, 413, 414, 417, 418, 419, 427,\n",
              "        429, 431, 434, 435, 437, 439, 441, 442, 444, 445, 447, 448, 449,\n",
              "        450, 452, 453, 455, 458, 459, 462, 463, 471, 472, 473, 478, 479,\n",
              "        481, 483, 485, 486, 487, 489, 493, 496, 497, 499]),)"
            ]
          },
          "metadata": {},
          "execution_count": 7
        }
      ]
    },
    {
      "cell_type": "code",
      "source": [
        "loss_1 = np.sum((feature-center[0])**2,axis==1)\n",
        "loss_2 = np.sum((feature-center[1])**2,axis==1)"
      ],
      "metadata": {
        "id": "K8tqryHjB4lB"
      },
      "execution_count": 8,
      "outputs": []
    },
    {
      "cell_type": "code",
      "source": [
        "distance[:,0] = loss_1\n",
        "distance[:,1] = loss_2"
      ],
      "metadata": {
        "id": "VGbV-rzMCgei"
      },
      "execution_count": null,
      "outputs": []
    },
    {
      "cell_type": "code",
      "source": [
        "label_pred = np.argmin(distance, axis=1)\n",
        "label_pred"
      ],
      "metadata": {
        "id": "aIkYPujrC6qp"
      },
      "execution_count": null,
      "outputs": []
    },
    {
      "cell_type": "code",
      "source": [
        ""
      ],
      "metadata": {
        "id": "5Vs62AQBC6of"
      },
      "execution_count": null,
      "outputs": []
    },
    {
      "cell_type": "code",
      "source": [
        ""
      ],
      "metadata": {
        "id": "noIB6QbYDOfV"
      },
      "execution_count": null,
      "outputs": []
    }
  ]
}