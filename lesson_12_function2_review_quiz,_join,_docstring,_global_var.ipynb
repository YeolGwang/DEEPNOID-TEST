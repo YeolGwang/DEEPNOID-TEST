{
  "cells": [
    {
      "cell_type": "markdown",
      "metadata": {
        "id": "view-in-github",
        "colab_type": "text"
      },
      "source": [
        "<a href=\"https://colab.research.google.com/github/YeolGwang/test_project_1/blob/main/lesson_12_function2_review_quiz%2C_join%2C_docstring%2C_global_var.ipynb\" target=\"_parent\"><img src=\"https://colab.research.google.com/assets/colab-badge.svg\" alt=\"Open In Colab\"/></a>"
      ]
    },
    {
      "cell_type": "markdown",
      "metadata": {
        "id": "MjcmwOZDAit0"
      },
      "source": [
        "### Quiz\n",
        "  OTP 생성기"
      ]
    },
    {
      "cell_type": "code",
      "execution_count": 2,
      "metadata": {
        "id": "ddAwxyCuAit4",
        "colab": {
          "base_uri": "https://localhost:8080/"
        },
        "outputId": "c9f9cefd-684b-4dce-e12f-4c97209e6729"
      },
      "outputs": [
        {
          "output_type": "execute_result",
          "data": {
            "text/plain": [
              "('367978', '632840')"
            ]
          },
          "metadata": {},
          "execution_count": 2
        }
      ],
      "source": [
        "def genPass():\n",
        "  import random\n",
        "  num=\"0123456789\"\n",
        "  password=''\n",
        "\n",
        "  for i in range(6):\n",
        "    idx = random.randrange(len(num))\n",
        "    password += num[idx]\n",
        "\n",
        "  return password\n",
        "\n",
        "genPass(), genPass()"
      ]
    },
    {
      "cell_type": "code",
      "execution_count": null,
      "metadata": {
        "id": "azXECF2fAit4"
      },
      "outputs": [],
      "source": [
        ""
      ]
    },
    {
      "cell_type": "markdown",
      "metadata": {
        "id": "GOn-NaGhAit5"
      },
      "source": [
        "#### join 문법\n",
        "    - 하나의 문자열로 합칠 수 있는 함수"
      ]
    },
    {
      "cell_type": "code",
      "execution_count": 3,
      "metadata": {
        "id": "ZhkwPFnhAit5",
        "colab": {
          "base_uri": "https://localhost:8080/",
          "height": 35
        },
        "outputId": "bfe69455-c532-41ed-fae2-310dd47c6bc7"
      },
      "outputs": [
        {
          "output_type": "execute_result",
          "data": {
            "text/plain": [
              "\"python is fun, isn't it?\""
            ],
            "application/vnd.google.colaboratory.intrinsic+json": {
              "type": "string"
            }
          },
          "metadata": {},
          "execution_count": 3
        }
      ],
      "source": [
        "ls = [\"python\", \"is\", \"fun,\", \"isn't it?\"]\n",
        "\n",
        "\" \".join(ls)"
      ]
    },
    {
      "cell_type": "markdown",
      "metadata": {
        "id": "mvbdijooAit7"
      },
      "source": [
        "#### docstring\n",
        "    - 함수를 선언할 때 함수에 대한 설명"
      ]
    },
    {
      "cell_type": "code",
      "execution_count": 4,
      "metadata": {
        "id": "klwz_R8dAit7"
      },
      "outputs": [],
      "source": [
        "def exam_doc(sibj):\n",
        "  \"\"\"\n",
        "  이 함수에 대한 설명을 여기에 작성하면 됩니다\n",
        "  \"\"\"\n",
        "  print(\"docstring 예제\")"
      ]
    },
    {
      "cell_type": "code",
      "execution_count": 5,
      "metadata": {
        "id": "sIBht6JFAit7",
        "colab": {
          "base_uri": "https://localhost:8080/"
        },
        "outputId": "a2e933dc-4a3e-4d9f-cbb0-3f2d2cdb8238"
      },
      "outputs": [
        {
          "output_type": "stream",
          "name": "stdout",
          "text": [
            "docstring 예제\n"
          ]
        }
      ],
      "source": [
        "exam_doc(2)"
      ]
    },
    {
      "cell_type": "code",
      "execution_count": 6,
      "metadata": {
        "id": "L4TA1hzOAit8",
        "colab": {
          "base_uri": "https://localhost:8080/"
        },
        "outputId": "ceff884d-5137-4e2b-9abb-5f9cefc144fe"
      },
      "outputs": [
        {
          "output_type": "stream",
          "name": "stdout",
          "text": [
            "Help on function exam_doc in module __main__:\n",
            "\n",
            "exam_doc(sibj)\n",
            "    이 함수에 대한 설명을 여기에 작성하면 됩니다\n",
            "\n"
          ]
        }
      ],
      "source": [
        "help(exam_doc)"
      ]
    },
    {
      "cell_type": "code",
      "source": [
        "exam_doc.__doc__"
      ],
      "metadata": {
        "colab": {
          "base_uri": "https://localhost:8080/",
          "height": 35
        },
        "id": "G8jUZr4WGEFW",
        "outputId": "bf9d3309-52c6-4356-ab41-e5f5a5fa9ba5"
      },
      "execution_count": 7,
      "outputs": [
        {
          "output_type": "execute_result",
          "data": {
            "text/plain": [
              "'\\n  이 함수에 대한 설명을 여기에 작성하면 됩니다\\n  '"
            ],
            "application/vnd.google.colaboratory.intrinsic+json": {
              "type": "string"
            }
          },
          "metadata": {},
          "execution_count": 7
        }
      ]
    },
    {
      "cell_type": "markdown",
      "metadata": {
        "id": "w7aC-zWtAit8"
      },
      "source": [
        "#### 지역변수와 전역변수\n",
        "    - 함수 안에서 선언되는 변수와 밖에서 선언되는 변수의 범위\n",
        "    - global : 전역\n",
        "    - local : 지역"
      ]
    },
    {
      "cell_type": "code",
      "execution_count": 10,
      "metadata": {
        "id": "ijszdEZgAit8",
        "colab": {
          "base_uri": "https://localhost:8080/"
        },
        "outputId": "44bdb7f3-876e-41ac-c118-f23ede02f8ed"
      },
      "outputs": [
        {
          "output_type": "stream",
          "name": "stdout",
          "text": [
            "수박\n"
          ]
        }
      ],
      "source": [
        "def exam():\n",
        "  print(global_v)\n",
        "\n",
        "global_v = '수박'\n",
        "\n",
        "exam()"
      ]
    },
    {
      "cell_type": "code",
      "execution_count": 11,
      "metadata": {
        "id": "MVsRBTReAit9",
        "colab": {
          "base_uri": "https://localhost:8080/"
        },
        "outputId": "8fa4780f-09e3-4caa-e9d2-939b422d57fe"
      },
      "outputs": [
        {
          "output_type": "stream",
          "name": "stdout",
          "text": [
            "바나나\n"
          ]
        }
      ],
      "source": [
        "def exam2():\n",
        "  global_v = '바나나'\n",
        "  print(global_v)\n",
        "\n",
        "exam2()"
      ]
    },
    {
      "cell_type": "code",
      "execution_count": 12,
      "metadata": {
        "id": "r9XiSN_GAit9",
        "colab": {
          "base_uri": "https://localhost:8080/"
        },
        "outputId": "4462822a-68fe-43d0-f285-539876ea3eb6"
      },
      "outputs": [
        {
          "output_type": "stream",
          "name": "stdout",
          "text": [
            "수박\n",
            "바나나\n"
          ]
        }
      ],
      "source": [
        "def exam3():\n",
        "  global global_v\n",
        "  print(global_v)\n",
        "  global_v = '바나나'\n",
        "  print(global_v)\n",
        "  \n",
        "global_v = '수박'\n",
        "\n",
        "exam3()"
      ]
    },
    {
      "cell_type": "code",
      "source": [
        ""
      ],
      "metadata": {
        "id": "FVoREfING_ph"
      },
      "execution_count": null,
      "outputs": []
    }
  ],
  "metadata": {
    "hide_input": false,
    "kernelspec": {
      "display_name": "Python 3",
      "language": "python",
      "name": "python3"
    },
    "language_info": {
      "codemirror_mode": {
        "name": "ipython",
        "version": 3
      },
      "file_extension": ".py",
      "mimetype": "text/x-python",
      "name": "python",
      "nbconvert_exporter": "python",
      "pygments_lexer": "ipython3",
      "version": "3.8.5"
    },
    "toc": {
      "base_numbering": 1,
      "nav_menu": {},
      "number_sections": true,
      "sideBar": true,
      "skip_h1_title": false,
      "title_cell": "Table of Contents",
      "title_sidebar": "Contents",
      "toc_cell": false,
      "toc_position": {},
      "toc_section_display": true,
      "toc_window_display": false
    },
    "varInspector": {
      "cols": {
        "lenName": 16,
        "lenType": 16,
        "lenVar": 40
      },
      "kernels_config": {
        "python": {
          "delete_cmd_postfix": "",
          "delete_cmd_prefix": "del ",
          "library": "var_list.py",
          "varRefreshCmd": "print(var_dic_list())"
        },
        "r": {
          "delete_cmd_postfix": ") ",
          "delete_cmd_prefix": "rm(",
          "library": "var_list.r",
          "varRefreshCmd": "cat(var_dic_list()) "
        }
      },
      "types_to_exclude": [
        "module",
        "function",
        "builtin_function_or_method",
        "instance",
        "_Feature"
      ],
      "window_display": false
    },
    "colab": {
      "name": "lesson 12. function2 - review quiz, join, docstring, global var.ipynb",
      "provenance": [],
      "collapsed_sections": [],
      "include_colab_link": true
    }
  },
  "nbformat": 4,
  "nbformat_minor": 0
}