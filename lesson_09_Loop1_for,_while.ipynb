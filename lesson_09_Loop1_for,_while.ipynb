{
  "cells": [
    {
      "cell_type": "markdown",
      "metadata": {
        "id": "view-in-github",
        "colab_type": "text"
      },
      "source": [
        "<a href=\"https://colab.research.google.com/github/YeolGwang/test_project_1/blob/main/lesson_09_Loop1_for%2C_while.ipynb\" target=\"_parent\"><img src=\"https://colab.research.google.com/assets/colab-badge.svg\" alt=\"Open In Colab\"/></a>"
      ]
    },
    {
      "cell_type": "markdown",
      "metadata": {
        "id": "XWWKDqVI-rU0"
      },
      "source": [
        "### Loop문\n",
        "    - 특정 코드를 종료시점까지 반복적으로 수행할 수 있는 구문\n",
        "    - for, while, continue, break\n",
        "    - list comprehention\n",
        "    - 머신러닝에서 학습을 시킬 수 있게하는 기본 코드"
      ]
    },
    {
      "cell_type": "markdown",
      "metadata": {
        "id": "bjpod-I--rU2"
      },
      "source": [
        "#### for문 1\n",
        "    - iterable한(반복 가능한) 값을 꺼내와서 변수에 대입시킨 후 갯수만큼 실행\n",
        "```python\n",
        "    for 변수 in 범위:\n",
        "        실행문\n",
        "```\n",
        "    - 범위(range)를 정하여 반복 횟수를 지정하고 지정한 횟수가 되면 loop문을 종료"
      ]
    },
    {
      "cell_type": "code",
      "execution_count": 1,
      "metadata": {
        "id": "Cwf2VDWV-rU2",
        "colab": {
          "base_uri": "https://localhost:8080/"
        },
        "outputId": "7c745a4e-2765-4dfc-81ee-65ff920a74cf"
      },
      "outputs": [
        {
          "output_type": "stream",
          "name": "stdout",
          "text": [
            "0\n",
            "1\n",
            "2\n",
            "3\n",
            "4\n",
            "5\n",
            "6\n",
            "7\n",
            "8\n",
            "9\n"
          ]
        }
      ],
      "source": [
        "for i in range(10):\n",
        "  print(i)"
      ]
    },
    {
      "cell_type": "code",
      "execution_count": 3,
      "metadata": {
        "id": "huhPewpE-rU3",
        "colab": {
          "base_uri": "https://localhost:8080/"
        },
        "outputId": "d9c0f352-af9c-45cc-9579-69b4614f480c"
      },
      "outputs": [
        {
          "output_type": "stream",
          "name": "stdout",
          "text": [
            "7 x 1 = 7\n",
            "7 x 2 = 14\n",
            "7 x 3 = 21\n",
            "7 x 4 = 28\n",
            "7 x 5 = 35\n",
            "7 x 6 = 42\n",
            "7 x 7 = 49\n",
            "7 x 8 = 56\n",
            "7 x 9 = 63\n"
          ]
        }
      ],
      "source": [
        "for i in range(1,10):\n",
        "  print(\"7 x\" ,i,\"=\", 7*i)"
      ]
    },
    {
      "cell_type": "code",
      "execution_count": 4,
      "metadata": {
        "id": "svjR0qxR-rU4",
        "colab": {
          "base_uri": "https://localhost:8080/"
        },
        "outputId": "6b032b3a-6258-4b41-a86b-a06e1528b570"
      },
      "outputs": [
        {
          "output_type": "stream",
          "name": "stdout",
          "text": [
            "H\n",
            "e\n",
            "l\n",
            "l\n",
            "o\n",
            " \n",
            "P\n",
            "y\n",
            "t\n",
            "h\n",
            "o\n",
            "n\n",
            ".\n",
            " \n",
            "H\n",
            "e\n",
            "l\n",
            "l\n",
            "o\n",
            " \n",
            "w\n",
            "o\n",
            "r\n",
            "l\n",
            "d\n"
          ]
        }
      ],
      "source": [
        "text = \"Hello Python. Hello world\"\n",
        "for word in text:\n",
        "  print(word)"
      ]
    },
    {
      "cell_type": "code",
      "execution_count": 6,
      "metadata": {
        "id": "s83h0xpm-rU4",
        "colab": {
          "base_uri": "https://localhost:8080/"
        },
        "outputId": "b25baa75-0d03-47b1-e371-9b8a36040848"
      },
      "outputs": [
        {
          "output_type": "stream",
          "name": "stdout",
          "text": [
            "game AI\n",
            "classification\n",
            "clustering\n"
          ]
        }
      ],
      "source": [
        "dic_t = {'Reinforcement learning': 'game AI',\n",
        " 'Supervised learning': 'classification',\n",
        " 'Unsupervised learning': 'clustering'}\n",
        " \n",
        "for value in dic_t.values():\n",
        "  print(value)"
      ]
    },
    {
      "cell_type": "markdown",
      "source": [
        "2개 이상의 변수 받기"
      ],
      "metadata": {
        "id": "HkUuxPBrLO8w"
      }
    },
    {
      "cell_type": "code",
      "execution_count": 7,
      "metadata": {
        "id": "RBmQABbq-rU4",
        "colab": {
          "base_uri": "https://localhost:8080/"
        },
        "outputId": "a48bd367-4738-43ab-b5bb-da4796e72453"
      },
      "outputs": [
        {
          "output_type": "stream",
          "name": "stdout",
          "text": [
            "key:  Reinforcement learning __ value:  game AI\n",
            "key:  Supervised learning __ value:  classification\n",
            "key:  Unsupervised learning __ value:  clustering\n"
          ]
        }
      ],
      "source": [
        "for key, value in dic_t.items():\n",
        "  print('key: ', key, '__', 'value: ', value)"
      ]
    },
    {
      "cell_type": "code",
      "source": [
        "for key, value in zip(dic_t.keys(), dic_t.values()):\n",
        "  print('key: ', key, '__', 'value: ', value)\n",
        "\n",
        "ls1 = dic_t.keys()\n",
        "ls2 = dic_t.values()\n"
      ],
      "metadata": {
        "colab": {
          "base_uri": "https://localhost:8080/"
        },
        "id": "5Y91MpZwLZ-E",
        "outputId": "23500840-ce40-452f-dd87-acc1aab3a266"
      },
      "execution_count": 9,
      "outputs": [
        {
          "output_type": "stream",
          "name": "stdout",
          "text": [
            "key:  Reinforcement learning __ value:  game AI\n",
            "key:  Supervised learning __ value:  classification\n",
            "key:  Unsupervised learning __ value:  clustering\n"
          ]
        }
      ]
    },
    {
      "cell_type": "markdown",
      "metadata": {
        "id": "bWv5oX7O-rU5"
      },
      "source": [
        "#### for문 quiz"
      ]
    },
    {
      "cell_type": "code",
      "execution_count": 10,
      "metadata": {
        "colab": {
          "base_uri": "https://localhost:8080/"
        },
        "id": "Fwd4s9Mf-rU6",
        "outputId": "afbad323-216b-4146-f9d9-d333bcf846a2"
      },
      "outputs": [
        {
          "output_type": "stream",
          "name": "stdout",
          "text": [
            "첫번째 숫자 입력: 16\n",
            "두번째 숫자 입력: 24\n",
            "최대공약수는 8 입니다\n"
          ]
        }
      ],
      "source": [
        "a = int(input(\"첫번째 숫자 입력: \"))\n",
        "b = int(input(\"두번째 숫자 입력: \"))\n",
        "for i in range(max(a,b), 1, -1):\n",
        "  if a % i == 0 and b % i == 0:\n",
        "    print(\"최대공약수는 %d 입니다\" %i)\n",
        "    break\n",
        "  else:\n",
        "    continue"
      ]
    },
    {
      "cell_type": "markdown",
      "metadata": {
        "id": "vDBqRZfe-rU6"
      },
      "source": [
        "### Quiz\n",
        "    list안의 list의 데이터를 꺼내서 출력해보기\n",
        "\n",
        "    index를 이용해서 출력해보기\n",
        "    for, if, elif, else\n",
        "        VIP이상은 발렛파킹\n",
        "        platinum은 우대주차장\n",
        "        Family 지하 12층"
      ]
    },
    {
      "cell_type": "code",
      "execution_count": null,
      "metadata": {
        "colab": {
          "base_uri": "https://localhost:8080/"
        },
        "id": "C-IAsWyo-rU6",
        "outputId": "b118ecb4-1531-4364-c95e-7df8d368fa96"
      },
      "outputs": [
        {
          "output_type": "stream",
          "name": "stdout",
          "text": [
            "VVIP 등급입니다.\n",
            "발렛파킹이 가능합니다\n",
            "VIP 등급입니다.\n",
            "발렛파킹이 가능합니다\n",
            "Platinum 등급입니다.\n",
            "우대주차장에 주차가 가능합니다\n",
            "Family 등급입니다.\n",
            "지하 12층으로 가세요\n"
          ]
        }
      ],
      "source": [
        "member = [['VVIP',50_000], ['VIP',30_000],['Platinum', 20_000],['Family', 10_000]]\n",
        "\n",
        "for grade in member:\n",
        "  # complete the blanks\n"
      ]
    },
    {
      "cell_type": "markdown",
      "metadata": {
        "id": "AbrfDtex-rU7"
      },
      "source": [
        "#### while 문\n",
        "```python\n",
        "while 조건문: # 조건문이 False가 될 때까지 반복\n",
        "    실행문\n",
        "```"
      ]
    },
    {
      "cell_type": "code",
      "execution_count": 11,
      "metadata": {
        "id": "71oX5-kZ-rU7",
        "colab": {
          "base_uri": "https://localhost:8080/"
        },
        "outputId": "e176961e-f533-4c48-ba70-e03a6dfa6e91"
      },
      "outputs": [
        {
          "output_type": "stream",
          "name": "stdout",
          "text": [
            "0\n",
            "1\n",
            "2\n",
            "3\n",
            "4\n",
            "5\n",
            "6\n",
            "7\n",
            "8\n",
            "9\n"
          ]
        }
      ],
      "source": [
        "a = 0\n",
        "while a<10:\n",
        "  print(a)\n",
        "  a+=1"
      ]
    },
    {
      "cell_type": "code",
      "source": [
        "rep = 10\n",
        "while rep:\n",
        "  print(rep)\n",
        "  rep -= 1"
      ],
      "metadata": {
        "id": "NOVpzHYkB6x7",
        "colab": {
          "base_uri": "https://localhost:8080/"
        },
        "outputId": "4c0fe503-f057-4f28-8c68-1dd15f9d7455"
      },
      "execution_count": 12,
      "outputs": [
        {
          "output_type": "stream",
          "name": "stdout",
          "text": [
            "10\n",
            "9\n",
            "8\n",
            "7\n",
            "6\n",
            "5\n",
            "4\n",
            "3\n",
            "2\n",
            "1\n"
          ]
        }
      ]
    },
    {
      "cell_type": "markdown",
      "metadata": {
        "id": "xYPU9xlR-rU7"
      },
      "source": [
        "#### while문 quiz\n",
        "    while문을 이용하여 코드를 만들어보기"
      ]
    },
    {
      "cell_type": "code",
      "execution_count": 14,
      "metadata": {
        "colab": {
          "base_uri": "https://localhost:8080/"
        },
        "id": "7CFGAp7Q-rU7",
        "outputId": "6630bd2d-429d-471d-cd03-dfc0f6ecec25"
      },
      "outputs": [
        {
          "output_type": "stream",
          "name": "stdout",
          "text": [
            "10!는 362880 입니다.\n"
          ]
        }
      ],
      "source": [
        "# factorial 계산 해보기\n",
        "i = 1\n",
        "factorial = 1\n",
        "\n",
        "while i < 10:\n",
        "  factorial = factorial * i\n",
        "  i = i +1\n",
        "\n",
        "print(\"10!는 %s 입니다.\" %(factorial))"
      ]
    },
    {
      "cell_type": "code",
      "execution_count": 15,
      "metadata": {
        "colab": {
          "base_uri": "https://localhost:8080/"
        },
        "id": "pkY9VcyK-rU8",
        "outputId": "9f5ff9bb-864f-4c20-af11-7dc8341d6cdc"
      },
      "outputs": [
        {
          "output_type": "stream",
          "name": "stdout",
          "text": [
            "1부터 100 사이의 모든 3의 배수의 합은 1683입니다.\n"
          ]
        }
      ],
      "source": [
        "# 배수의 합 계산 프로그램 만들기\n",
        "# 1부터 100사이의 모든 3의 배수의 합을 계산하여 출력해보자\n",
        "\n",
        "sum = 0\n",
        "num = 1\n",
        "while num <= 100:\n",
        "  if num % 3 == 0:\n",
        "    sum += num\n",
        "  \n",
        "  num += 1\n",
        "\n",
        "print(f\"1부터 100 사이의 모든 3의 배수의 합은 {sum}입니다.\")"
      ]
    },
    {
      "cell_type": "code",
      "execution_count": 17,
      "metadata": {
        "colab": {
          "base_uri": "https://localhost:8080/"
        },
        "id": "G9B_Z1Xh-rU8",
        "outputId": "d9225bc1-c719-4eff-d59f-81f241760718"
      },
      "outputs": [
        {
          "output_type": "stream",
          "name": "stdout",
          "text": [
            "자리 수의 합은 10 입니다.\n"
          ]
        }
      ],
      "source": [
        "# 정수 안의 각 자리 수의 합을 계산해보자\n",
        "# 예를 들어 1234 라면 1+2+3+4를 계산해야 한다.\n",
        "\n",
        "number = 1234\n",
        "sum = 0\n",
        "\n",
        "while number > 0:\n",
        "  digit = number % 10\n",
        "  sum += digit\n",
        "  number //= 10\n",
        "\n",
        "print(\"자리 수의 합은 %s 입니다.\" %(sum)) "
      ]
    },
    {
      "cell_type": "markdown",
      "metadata": {
        "id": "JMwRiVCz-rU8"
      },
      "source": [
        "#### while문의 무한루프\n",
        "  - 무한 반복을 막기 위해 탈출문자를 사용한다.\n",
        "  "
      ]
    },
    {
      "cell_type": "code",
      "execution_count": null,
      "metadata": {
        "id": "nIgav6Vj-rU8"
      },
      "outputs": [],
      "source": [
        "# 하지마세요~"
      ]
    },
    {
      "cell_type": "markdown",
      "metadata": {
        "id": "po286VL1-rU9"
      },
      "source": [
        "### Quiz\n",
        "    로또 번호 생성기\n",
        "\n",
        "    1~45까지 숫자를 중복없이 6개를 추출해서 한 리스트에 담기\n",
        "    random 모듈을 이용해서 작성\n",
        "    무한루프로 돌리되 break를 이용하여 탈출할 수 있게 작성\n",
        "    멤버 연산 in, not in"
      ]
    },
    {
      "cell_type": "code",
      "source": [
        "import random\n",
        "\n",
        "lotto = []\n",
        "\n",
        "while True:\n",
        "  number = random.randint(1,45)\n",
        "  if number not in lotto:\n",
        "    lotto.append(number)\n",
        "  if len(lotto) == 6:\n",
        "    break\n",
        "\n",
        "lotto.sort()\n",
        "lotto"
      ],
      "metadata": {
        "id": "eVAf4wmTEHBQ",
        "colab": {
          "base_uri": "https://localhost:8080/"
        },
        "outputId": "3a35c8c9-b18d-482a-8477-f58d3fc90d5b"
      },
      "execution_count": 18,
      "outputs": [
        {
          "output_type": "execute_result",
          "data": {
            "text/plain": [
              "[4, 19, 20, 22, 39, 40]"
            ]
          },
          "metadata": {},
          "execution_count": 18
        }
      ]
    },
    {
      "cell_type": "code",
      "source": [
        ""
      ],
      "metadata": {
        "id": "_KluBBT0G6J4"
      },
      "execution_count": null,
      "outputs": []
    }
  ],
  "metadata": {
    "hide_input": false,
    "kernelspec": {
      "display_name": "Python 3",
      "language": "python",
      "name": "python3"
    },
    "language_info": {
      "codemirror_mode": {
        "name": "ipython",
        "version": 3
      },
      "file_extension": ".py",
      "mimetype": "text/x-python",
      "name": "python",
      "nbconvert_exporter": "python",
      "pygments_lexer": "ipython3",
      "version": "3.8.5"
    },
    "toc": {
      "base_numbering": 1,
      "nav_menu": {},
      "number_sections": true,
      "sideBar": true,
      "skip_h1_title": false,
      "title_cell": "Table of Contents",
      "title_sidebar": "Contents",
      "toc_cell": false,
      "toc_position": {},
      "toc_section_display": true,
      "toc_window_display": false
    },
    "varInspector": {
      "cols": {
        "lenName": 16,
        "lenType": 16,
        "lenVar": 40
      },
      "kernels_config": {
        "python": {
          "delete_cmd_postfix": "",
          "delete_cmd_prefix": "del ",
          "library": "var_list.py",
          "varRefreshCmd": "print(var_dic_list())"
        },
        "r": {
          "delete_cmd_postfix": ") ",
          "delete_cmd_prefix": "rm(",
          "library": "var_list.r",
          "varRefreshCmd": "cat(var_dic_list()) "
        }
      },
      "types_to_exclude": [
        "module",
        "function",
        "builtin_function_or_method",
        "instance",
        "_Feature"
      ],
      "window_display": false
    },
    "colab": {
      "name": "lesson 09. Loop1 - for, while.ipynb",
      "provenance": [],
      "collapsed_sections": [],
      "include_colab_link": true
    }
  },
  "nbformat": 4,
  "nbformat_minor": 0
}